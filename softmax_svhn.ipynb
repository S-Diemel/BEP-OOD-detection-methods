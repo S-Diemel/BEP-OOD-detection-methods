{
 "cells": [
  {
   "cell_type": "code",
   "execution_count": 1,
   "metadata": {
    "collapsed": true
   },
   "outputs": [
    {
     "name": "stdout",
     "output_type": "stream",
     "text": [
      "C:\\Users\\20203666\\Documents\\BEP\\code\\Representation_Learning\n"
     ]
    }
   ],
   "source": [
    "from __future__ import print_function\n",
    "import torch\n",
    "import torch.optim as optim\n",
    "from torchvision import datasets, transforms\n",
    "from torch.utils.data import DataLoader, random_split\n",
    "cuda = torch.cuda.is_available()\n",
    "device = 'cuda' if cuda else 'cpu'\n",
    "%matplotlib inline\n",
    "from utils import *\n",
    "import torch\n",
    "import random\n",
    "from PIL import Image,ImageFilter\n",
    "import pickle\n",
    "from torchvision.transforms import functional as FT\n",
    "from torch.autograd import Variable\n",
    "from torch.utils.data import Dataset"
   ]
  },
  {
   "cell_type": "code",
   "execution_count": 2,
   "outputs": [
    {
     "name": "stdout",
     "output_type": "stream",
     "text": [
      "Using downloaded and verified file: ./data\\train_32x32.mat\n",
      "Using downloaded and verified file: ./data\\test_32x32.mat\n",
      "147\n"
     ]
    }
   ],
   "source": [
    "classes = ('plane', 'car', 'bird', 'cat', 'deer', 'dog', 'frog', 'horse', 'ship', 'truck')\n",
    "num_classes = 10\n",
    "batch_size = 500\n",
    "\n",
    "mean_id = [0.4524, 0.4525, 0.4690]  #  mean along channels\n",
    "std_id=[0.12252066, 0.12827758, 0.1144258 ]\n",
    "# Define normalization transformation\n",
    "normalize_transform_id = transforms.Compose([\n",
    "    transforms.ToTensor(),\n",
    "    transforms.Normalize(mean_id, std_id)])\n",
    "\n",
    "train_dataset_id =  datasets.SVHN(\n",
    "    root= './data', split = 'train',\n",
    "    download =True, transform=normalize_transform_id)\n",
    "test_dataset_id  = datasets.SVHN(\n",
    "    root= './data', split = 'test',\n",
    "    download =True, transform=normalize_transform_id)\n",
    "\n",
    "class_indices = {i: [] for i in range(10)}\n",
    "for idx, (_, label) in enumerate(test_dataset_id):\n",
    "    class_indices[label].append(idx)\n",
    "\n",
    "# Select 1,000 random indices for each class\n",
    "selected_indices = []\n",
    "for label, indices in class_indices.items():\n",
    "    selected_indices.extend(indices[:1000])\n",
    "\n",
    "test_dataset_id = torch.utils.data.Subset(test_dataset_id, selected_indices)\n",
    "\n",
    "train_loader_id = torch.utils.data.DataLoader(train_dataset_id\n",
    "                                              , batch_size = batch_size\n",
    "                                              , shuffle = True)\n",
    "test_loader_id = torch.utils.data.DataLoader(test_dataset_id\n",
    "                                             , batch_size = batch_size\n",
    "                                             , shuffle = True)\n",
    "n_total_step = len(train_loader_id)\n",
    "print(n_total_step)"
   ],
   "metadata": {
    "collapsed": false,
    "pycharm": {
     "name": "#%%\n"
    }
   }
  },
  {
   "cell_type": "code",
   "execution_count": 3,
   "outputs": [
    {
     "name": "stdout",
     "output_type": "stream",
     "text": [
      "2512svv1.t7 ACC:\t tensor(95.8700)\n",
      "Loss: 0.200 | Acc: 95.580% (9558/10000) | Conf 97.62\n"
     ]
    }
   ],
   "source": [
    "classifier = nn.Linear(512, num_classes)\n",
    "neta = resnet9(classifier, mod=True)\n",
    "neta = load_net('2512svv1.t7', neta).to(device)\n",
    "criterion_sm = CE_Loss(neta.classifier, num_classes).to(device)\n",
    "sgd = optim.SGD([{'params': neta.parameters()}, ],\n",
    "                lr=0.1, momentum=0.9, weight_decay=5e-4)\n",
    "optimizer = Optimizer(sgd, train_loader_id, device)\n",
    "(acc, conf) = optimizer.test_acc(neta, criterion_sm, test_loader_id)"
   ],
   "metadata": {
    "collapsed": false,
    "pycharm": {
     "name": "#%%\n"
    }
   }
  },
  {
   "cell_type": "code",
   "execution_count": 4,
   "outputs": [],
   "source": [
    "def predict_softmax(net, test_loader, temperature, threshold):\n",
    "    predictions = []\n",
    "    net.eval()\n",
    "    with torch.no_grad():\n",
    "        for batch_idx, (inputs, targets) in enumerate(test_loader):\n",
    "            inputs, targets = inputs.to('cuda'), targets.to('cpu')\n",
    "            outputs = net.forward(inputs).to('cpu')\n",
    "            outputs = outputs / temperature\n",
    "            softmax_outputs = F.softmax(outputs)\n",
    "            confBatch, predicted = softmax_outputs.max(1)\n",
    "            for i in range(len(predicted)):\n",
    "                if confBatch[i]<threshold:\n",
    "                    prediction = (1,  int(predicted[i]), float(confBatch[i]), targets[i])\n",
    "                else:\n",
    "                    prediction = (0, int(predicted[i]), float(confBatch[i]), targets[i])\n",
    "                predictions.append(prediction)\n",
    "            print(len(predictions))\n",
    "    return predictions\n",
    "\n",
    "def fit_softmax(net, test_loader, temperature):\n",
    "    softmax_scores = []\n",
    "    net.eval()\n",
    "    with torch.no_grad():\n",
    "        for batch_idx, (inputs, targets) in enumerate(test_loader):\n",
    "            inputs, targets = inputs.to('cuda'), targets.to('cpu')\n",
    "            outputs = net.forward(inputs).to('cpu')\n",
    "            outputs = outputs / temperature\n",
    "            softmax_outputs = F.softmax(outputs)\n",
    "            confBatch, predicted = softmax_outputs.max(1)\n",
    "            for i in range(len(predicted)):\n",
    "                prediction = confBatch[i]\n",
    "                softmax_scores.append(prediction)\n",
    "    percentile_95 = np.percentile(softmax_scores, 5)\n",
    "    return percentile_95\n",
    "\n",
    "def predict_softmax_grad(net, test_loader, temperature, threshold):\n",
    "    predictions = []\n",
    "    net.eval()\n",
    "\n",
    "    for batch_idx, (inputs, targets) in enumerate(test_loader):\n",
    "        with torch.no_grad():\n",
    "            inputs, targets = inputs.to('cuda'), targets.to('cpu')\n",
    "            outputs = net.forward(inputs).to('cpu')\n",
    "            outputs = outputs / temperature\n",
    "            softmax_outputs = F.softmax(outputs)\n",
    "            confBatch, predicted = softmax_outputs.max(1)\n",
    "            for i in range(len(predicted)):\n",
    "                if confBatch[i]<threshold:\n",
    "                    prediction = (1,  int(predicted[i]), float(confBatch[i]), targets[i])\n",
    "                else:\n",
    "                    prediction = (0, int(predicted[i]), float(confBatch[i]), targets[i])\n",
    "                predictions.append(prediction)\n",
    "            print(len(predictions))\n",
    "    return predictions\n",
    "\n",
    "def calc_FPR95(preds):\n",
    "    id=1\n",
    "    acc=0\n",
    "    acc2=0\n",
    "    for i in range(len(preds)):\n",
    "        if preds[i][0] == 0:\n",
    "            id+=1\n",
    "        if preds[i][1]==preds[i][3] and preds[i][0] == 0:\n",
    "            acc+=1\n",
    "        if preds[i][1]==preds[i][3]:\n",
    "            acc2+=1\n",
    "    print(f'percentage ID: {id/10000}, percentage accurate total: {acc2/10000}, percentage accurate and ID: {acc/10000},'\n",
    "          f' percentage accurate of ID: {acc/id}')\n",
    "\n",
    "def plot_hist(preds_id, preds_ood, threshold):\n",
    "    id_data=[]\n",
    "    ood_data=[]\n",
    "    for i in range(len(preds_id)):\n",
    "        id_data.append(preds_id[i][2])\n",
    "        ood_data.append(preds_ood[i][2])\n",
    "\n",
    "    bin_edges = np.linspace(min(min(id_data), min(ood_data)), max(max(id_data), max(ood_data)), 50)  # 30 bins\n",
    "\n",
    "    plt.hist(id_data, bins=bin_edges, alpha=0.5, label='ID data', color='blue')\n",
    "    plt.hist(ood_data, bins=bin_edges, alpha=0.5, label='OOD data', color='orange')\n",
    "    plt.axvline(x=threshold, color='red', linestyle='--', label=f'Threshold ({round(float(threshold),4)})')\n",
    "\n",
    "    # Adding labels and title\n",
    "    plt.xlabel('OOD detection method score')\n",
    "    plt.ylabel('Frequency')\n",
    "    plt.yticks([])\n",
    "    plt.legend()\n",
    "\n",
    "    # Displaying the plot\n",
    "    plt.show()\n",
    "from sklearn.metrics import roc_auc_score,roc_curve, auc\n",
    "def calc_auroc(preds_id, preds_ood):\n",
    "    id_labels = [1]*10000\n",
    "    ood_labels = [0]*10000\n",
    "    id_data=[]\n",
    "    ood_data=[]\n",
    "    for i in range(len(preds_id)):\n",
    "        id_data.append(preds_id[i][2])\n",
    "        ood_data.append(preds_ood[i][2])\n",
    "    data = id_data+ ood_data\n",
    "    labels = id_labels+ ood_labels\n",
    "    auroc = roc_auc_score(labels, data)\n",
    "    fpr, tpr, thresholds = roc_curve(labels, data)\n",
    "    print(f'AUROC: {auroc}')\n",
    "    roc_auc = auc(fpr, tpr)\n",
    "    idx = next(i for i, v in enumerate(tpr) if v >= 0.95)\n",
    "    fpr_at_tpr_95 = fpr[idx]\n",
    "\n",
    "    # Plot ROC curve\n",
    "    plt.figure()\n",
    "    plt.plot(fpr, tpr, color='blue', lw=2, label=f'AUROC = {roc_auc:.2f}')\n",
    "    #plt.plot([0, 1], [0, 1], color='red', linestyle='--')\n",
    "    plt.xlabel('False Positive Rate (FPR)')\n",
    "    plt.ylabel('True Positive Rate (TPR)')\n",
    "    plt.title('Receiver Operating Characteristic (ROC) Curve')\n",
    "    #plt.ylim(0.5, 1)\n",
    "    plt.axvline(x=fpr_at_tpr_95, color='red', linestyle='--', label='TPR = 0.95')\n",
    "    plt.legend(loc='lower right')\n",
    "    plt.show()\n"
   ],
   "metadata": {
    "collapsed": false,
    "pycharm": {
     "name": "#%%\n"
    }
   }
  },
  {
   "cell_type": "code",
   "execution_count": 5,
   "outputs": [
    {
     "name": "stderr",
     "output_type": "stream",
     "text": [
      "C:\\ProgramData\\Anaconda3\\lib\\site-packages\\ipykernel_launcher.py:28: UserWarning: Implicit dimension choice for softmax has been deprecated. Change the call to include dim=X as an argument.\n"
     ]
    },
    {
     "name": "stdout",
     "output_type": "stream",
     "text": [
      "0.10573121532797813\n"
     ]
    },
    {
     "name": "stderr",
     "output_type": "stream",
     "text": [
      "C:\\ProgramData\\Anaconda3\\lib\\site-packages\\ipykernel_launcher.py:9: UserWarning: Implicit dimension choice for softmax has been deprecated. Change the call to include dim=X as an argument.\n",
      "  if __name__ == '__main__':\n"
     ]
    },
    {
     "name": "stdout",
     "output_type": "stream",
     "text": [
      "500\n",
      "1000\n",
      "1500\n",
      "2000\n",
      "2500\n",
      "3000\n",
      "3500\n",
      "4000\n",
      "4500\n",
      "5000\n",
      "5500\n",
      "6000\n",
      "6500\n",
      "7000\n",
      "7500\n",
      "8000\n",
      "8500\n",
      "9000\n",
      "9500\n",
      "10000\n"
     ]
    }
   ],
   "source": [
    "temp = 100\n",
    "threshold = fit_softmax(neta, test_loader_id, temp)\n",
    "print(threshold)\n",
    "preds_id = predict_softmax(neta, test_loader_id, temp, threshold)"
   ],
   "metadata": {
    "collapsed": false,
    "pycharm": {
     "name": "#%%\n"
    }
   }
  },
  {
   "cell_type": "code",
   "execution_count": 6,
   "outputs": [
    {
     "name": "stdout",
     "output_type": "stream",
     "text": [
      "percentage ID: 0.9501, percentage accurate total: 0.9558, percentage accurate and ID: 0.9257, percentage accurate of ID: 0.9743184927902326\n"
     ]
    }
   ],
   "source": [
    "calc_FPR95(preds_id)"
   ],
   "metadata": {
    "collapsed": false,
    "pycharm": {
     "name": "#%%\n"
    }
   }
  },
  {
   "cell_type": "code",
   "execution_count": 8,
   "outputs": [
    {
     "name": "stdout",
     "output_type": "stream",
     "text": [
      "Files already downloaded and verified\n"
     ]
    }
   ],
   "source": [
    "\n",
    "normalize_transform_cifar = transforms.Compose([\n",
    "    transforms.ToTensor(),\n",
    "    transforms.Normalize(mean_id, std_id)])\n",
    "\n",
    "\n",
    "dataset_cifar = datasets.CIFAR10(\n",
    "    root= './data', train = False,\n",
    "    download =True, transform = normalize_transform_cifar)\n",
    "\n",
    "loader_cifar = torch.utils.data.DataLoader(dataset_cifar\n",
    "                                           , batch_size = batch_size\n",
    "                                           , shuffle = True)"
   ],
   "metadata": {
    "collapsed": false,
    "pycharm": {
     "name": "#%%\n"
    }
   }
  },
  {
   "cell_type": "code",
   "execution_count": 9,
   "outputs": [
    {
     "name": "stderr",
     "output_type": "stream",
     "text": [
      "C:\\ProgramData\\Anaconda3\\lib\\site-packages\\ipykernel_launcher.py:9: UserWarning: Implicit dimension choice for softmax has been deprecated. Change the call to include dim=X as an argument.\n",
      "  if __name__ == '__main__':\n"
     ]
    },
    {
     "name": "stdout",
     "output_type": "stream",
     "text": [
      "500\n",
      "1000\n",
      "1500\n",
      "2000\n",
      "2500\n",
      "3000\n",
      "3500\n",
      "4000\n",
      "4500\n",
      "5000\n",
      "5500\n",
      "6000\n",
      "6500\n",
      "7000\n",
      "7500\n",
      "8000\n",
      "8500\n",
      "9000\n",
      "9500\n",
      "10000\n"
     ]
    }
   ],
   "source": [
    "preds_cifar = predict_softmax(neta, loader_cifar, temp, threshold)"
   ],
   "metadata": {
    "collapsed": false,
    "pycharm": {
     "name": "#%%\n"
    }
   }
  },
  {
   "cell_type": "code",
   "execution_count": 10,
   "outputs": [
    {
     "name": "stdout",
     "output_type": "stream",
     "text": [
      "percentage ID: 0.2927, percentage accurate total: 0.1011, percentage accurate and ID: 0.0286, percentage accurate of ID: 0.09771096686026648\n"
     ]
    }
   ],
   "source": [
    "calc_FPR95(preds_cifar)"
   ],
   "metadata": {
    "collapsed": false,
    "pycharm": {
     "name": "#%%\n"
    }
   }
  },
  {
   "cell_type": "code",
   "execution_count": 16,
   "outputs": [
    {
     "data": {
      "text/plain": "<Figure size 432x288 with 1 Axes>",
      "image/png": "[encoded data removed]"
     },
     "metadata": {
      "needs_background": "light"
     },
     "output_type": "display_data"
    },
    {
     "name": "stdout",
     "output_type": "stream",
     "text": [
      "AUROC: 0.951883205\n"
     ]
    },
    {
     "data": {
      "text/plain": "<Figure size 432x288 with 1 Axes>",
      "image/png": "[encoded data removed]"
     },
     "metadata": {
      "needs_background": "light"
     },
     "output_type": "display_data"
    }
   ],
   "source": [
    "plot_hist(preds_id, preds_cifar, threshold)\n",
    "calc_auroc(preds_id, preds_cifar)"
   ],
   "metadata": {
    "collapsed": false,
    "pycharm": {
     "name": "#%%\n"
    }
   }
  },
  {
   "cell_type": "code",
   "execution_count": 19,
   "outputs": [
    {
     "name": "stderr",
     "output_type": "stream",
     "text": [
      "C:\\ProgramData\\Anaconda3\\lib\\site-packages\\ipykernel_launcher.py:9: UserWarning: Implicit dimension choice for softmax has been deprecated. Change the call to include dim=X as an argument.\n",
      "  if __name__ == '__main__':\n"
     ]
    },
    {
     "name": "stdout",
     "output_type": "stream",
     "text": [
      "500\n",
      "1000\n",
      "1500\n",
      "2000\n",
      "2500\n",
      "3000\n",
      "3500\n",
      "4000\n",
      "4500\n",
      "5000\n",
      "5500\n",
      "6000\n",
      "6500\n",
      "7000\n",
      "7500\n",
      "8000\n",
      "8500\n",
      "9000\n",
      "9500\n",
      "10000\n"
     ]
    }
   ],
   "source": [
    "transform = transforms.Compose([\n",
    "    transforms.Resize((32, 32)),  # Resize the image to 32x32\n",
    "    transforms.Grayscale(num_output_channels=3),  # Convert to 3-channel image\n",
    "    transforms.ToTensor(),\n",
    "    transforms.Normalize(mean_id, std_id)  # Convert image to tensor # Expand single channel to three channels\n",
    "])\n",
    "\n",
    "dataset_domain_shift = datasets.MNIST(root='./data', train=False, download=True, transform=transform)\n",
    "\n",
    "loader_domain_shift = torch.utils.data.DataLoader(dataset_domain_shift\n",
    "                                                  , batch_size=batch_size\n",
    "                                                  , shuffle=False)\n",
    "preds_domain_shift = predict_softmax(neta, loader_domain_shift, temp, threshold)"
   ],
   "metadata": {
    "collapsed": false,
    "pycharm": {
     "name": "#%%\n"
    }
   }
  },
  {
   "cell_type": "code",
   "execution_count": 20,
   "outputs": [
    {
     "name": "stdout",
     "output_type": "stream",
     "text": [
      "percentage ID: 0.5413, percentage accurate total: 0.6955, percentage accurate and ID: 0.4773, percentage accurate of ID: 0.8817661186033623\n"
     ]
    }
   ],
   "source": [
    "calc_FPR95(preds_domain_shift)"
   ],
   "metadata": {
    "collapsed": false,
    "pycharm": {
     "name": "#%%\n"
    }
   }
  },
  {
   "cell_type": "code",
   "execution_count": 21,
   "outputs": [
    {
     "data": {
      "text/plain": "<Figure size 432x288 with 1 Axes>",
      "image/png": "[encoded data removed]"
     },
     "metadata": {
      "needs_background": "light"
     },
     "output_type": "display_data"
    },
    {
     "name": "stdout",
     "output_type": "stream",
     "text": [
      "AUROC: 0.8729516249999999\n"
     ]
    },
    {
     "data": {
      "text/plain": "<Figure size 432x288 with 1 Axes>",
      "image/png": "[encoded data removed]"
     },
     "metadata": {
      "needs_background": "light"
     },
     "output_type": "display_data"
    }
   ],
   "source": [
    "plot_hist(preds_id, preds_domain_shift, threshold)\n",
    "\n",
    "calc_auroc(preds_id, preds_domain_shift)"
   ],
   "metadata": {
    "collapsed": false,
    "pycharm": {
     "name": "#%%\n"
    }
   }
  },
  {
   "cell_type": "code",
   "execution_count": 7,
   "outputs": [
    {
     "name": "stdout",
     "output_type": "stream",
     "text": [
      "Using downloaded and verified file: ./data\\test_32x32.mat\n"
     ]
    },
    {
     "name": "stderr",
     "output_type": "stream",
     "text": [
      "C:\\ProgramData\\Anaconda3\\lib\\site-packages\\ipykernel_launcher.py:9: UserWarning: Implicit dimension choice for softmax has been deprecated. Change the call to include dim=X as an argument.\n",
      "  if __name__ == '__main__':\n"
     ]
    },
    {
     "name": "stdout",
     "output_type": "stream",
     "text": [
      "500\n",
      "1000\n",
      "1500\n",
      "2000\n",
      "2500\n",
      "3000\n",
      "3500\n",
      "4000\n",
      "4500\n",
      "5000\n",
      "5500\n",
      "6000\n",
      "6500\n",
      "7000\n",
      "7500\n",
      "8000\n",
      "8500\n",
      "9000\n",
      "9500\n",
      "10000\n"
     ]
    }
   ],
   "source": [
    "\n",
    "\n",
    "class AddGaussianNoise(object):\n",
    "    def __init__(self, mean=0., std=1.):\n",
    "        self.std = std\n",
    "        self.mean = mean\n",
    "\n",
    "    def __call__(self, tensor):\n",
    "        # Add Gaussian noise to the tensor\n",
    "        noise = torch.randn(tensor.size()) * self.std + self.mean\n",
    "        noisy_tensor = tensor + noise\n",
    "\n",
    "        # Clip pixel values to maintain range between 0 and 1\n",
    "        noisy_tensor = torch.clamp(noisy_tensor, 0., 1.)\n",
    "        return noisy_tensor\n",
    "\n",
    "\n",
    "noise_level = 0.075\n",
    "\n",
    "# Define normalization transformation\n",
    "normalize_transform_noise = transforms.Compose([\n",
    "    transforms.ToTensor(),\n",
    "    AddGaussianNoise(mean=0.0, std=noise_level),\n",
    "    transforms.Normalize(mean_id, std_id)])\n",
    "\n",
    "\n",
    "dataset_noise = datasets.SVHN(\n",
    "    root= './data', split = 'test',\n",
    "    download =True, transform=normalize_transform_noise)\n",
    "\n",
    "dataset_noise = torch.utils.data.Subset(dataset_noise, selected_indices)\n",
    "\n",
    "loader_noise = torch.utils.data.DataLoader(dataset_noise\n",
    "                                           , batch_size=batch_size\n",
    "                                           , shuffle=False)\n",
    "preds_noise = predict_softmax(neta, loader_noise, temp, threshold)"
   ],
   "metadata": {
    "collapsed": false,
    "pycharm": {
     "name": "#%%\n"
    }
   }
  },
  {
   "cell_type": "code",
   "execution_count": 8,
   "outputs": [
    {
     "name": "stdout",
     "output_type": "stream",
     "text": [
      "percentage ID: 0.8844, percentage accurate total: 0.8715, percentage accurate and ID: 0.8197, percentage accurate of ID: 0.9268430574400723\n"
     ]
    }
   ],
   "source": [
    "calc_FPR95(preds_noise)"
   ],
   "metadata": {
    "collapsed": false,
    "pycharm": {
     "name": "#%%\n"
    }
   }
  },
  {
   "cell_type": "code",
   "execution_count": 9,
   "outputs": [
    {
     "data": {
      "text/plain": "<Figure size 432x288 with 1 Axes>",
      "image/png": "[encoded data removed]"
     },
     "metadata": {
      "needs_background": "light"
     },
     "output_type": "display_data"
    },
    {
     "name": "stdout",
     "output_type": "stream",
     "text": [
      "AUROC: 0.605729615\n"
     ]
    },
    {
     "data": {
      "text/plain": "<Figure size 432x288 with 1 Axes>",
      "image/png": "[encoded data removed]"
     },
     "metadata": {
      "needs_background": "light"
     },
     "output_type": "display_data"
    }
   ],
   "source": [
    "plot_hist(preds_id, preds_noise, threshold) #0.025\n",
    "calc_auroc(preds_id, preds_noise)"
   ],
   "metadata": {
    "collapsed": false,
    "pycharm": {
     "name": "#%%\n"
    }
   }
  },
  {
   "cell_type": "code",
   "execution_count": 22,
   "outputs": [
    {
     "name": "stdout",
     "output_type": "stream",
     "text": [
      "Using downloaded and verified file: ./data\\test_32x32.mat\n"
     ]
    },
    {
     "name": "stderr",
     "output_type": "stream",
     "text": [
      "C:\\ProgramData\\Anaconda3\\lib\\site-packages\\ipykernel_launcher.py:9: UserWarning: Implicit dimension choice for softmax has been deprecated. Change the call to include dim=X as an argument.\n",
      "  if __name__ == '__main__':\n"
     ]
    },
    {
     "name": "stdout",
     "output_type": "stream",
     "text": [
      "500\n",
      "1000\n",
      "1500\n",
      "2000\n",
      "2500\n",
      "3000\n",
      "3500\n",
      "4000\n",
      "4500\n",
      "5000\n",
      "5500\n",
      "6000\n",
      "6500\n",
      "7000\n",
      "7500\n",
      "8000\n",
      "8500\n",
      "9000\n",
      "9500\n",
      "10000\n"
     ]
    }
   ],
   "source": [
    "\n",
    "\n",
    "class AddBlur(object):\n",
    "    def __init__(self, radius=2):\n",
    "        self.radius = radius\n",
    "\n",
    "    def __call__(self, img):\n",
    "        pil_img = transforms.ToPILImage()(img)  # Convert Tensor to PIL Image\n",
    "        blurred_img = pil_img.filter(ImageFilter.GaussianBlur(radius=self.radius))  # Apply Gaussian blur\n",
    "        return transforms.ToTensor()(blurred_img)\n",
    "\n",
    "\n",
    "blur_level = 2\n",
    "\n",
    "# Define normalization transformation\n",
    "normalize_transform_blur = transforms.Compose([\n",
    "    transforms.ToTensor(),\n",
    "    AddBlur(radius=blur_level),\n",
    "    transforms.Normalize(mean_id, std_id)])\n",
    "\n",
    "\n",
    "dataset_blur = datasets.SVHN(\n",
    "    root= './data', split = 'test',\n",
    "    download =True, transform=normalize_transform_blur)\n",
    "\n",
    "dataset_blur = torch.utils.data.Subset(dataset_blur, selected_indices)\n",
    "\n",
    "loader_blur = torch.utils.data.DataLoader(dataset_blur\n",
    "                                          , batch_size=batch_size\n",
    "                                          , shuffle=False)\n",
    "preds_blur = predict_softmax(neta, loader_blur, temp, threshold)"
   ],
   "metadata": {
    "collapsed": false,
    "pycharm": {
     "name": "#%%\n"
    }
   }
  },
  {
   "cell_type": "code",
   "execution_count": 23,
   "outputs": [
    {
     "name": "stdout",
     "output_type": "stream",
     "text": [
      "percentage ID: 0.9002, percentage accurate total: 0.8934, percentage accurate and ID: 0.8477, percentage accurate of ID: 0.9416796267496111\n"
     ]
    }
   ],
   "source": [
    "calc_FPR95(preds_blur)"
   ],
   "metadata": {
    "collapsed": false,
    "pycharm": {
     "name": "#%%\n"
    }
   }
  },
  {
   "cell_type": "code",
   "execution_count": 24,
   "outputs": [
    {
     "data": {
      "text/plain": "<Figure size 432x288 with 1 Axes>",
      "image/png": "[encoded data removed]"
     },
     "metadata": {
      "needs_background": "light"
     },
     "output_type": "display_data"
    },
    {
     "name": "stdout",
     "output_type": "stream",
     "text": [
      "AUROC: 0.49896408\n"
     ]
    },
    {
     "data": {
      "text/plain": "<Figure size 432x288 with 1 Axes>",
      "image/png": "[encoded data removed]"
     },
     "metadata": {
      "needs_background": "light"
     },
     "output_type": "display_data"
    }
   ],
   "source": [
    "plot_hist(preds_id, preds_blur, threshold) #0.075\n",
    "calc_auroc(preds_id, preds_blur)"
   ],
   "metadata": {
    "collapsed": false,
    "pycharm": {
     "name": "#%%\n"
    }
   }
  },
  {
   "cell_type": "code",
   "execution_count": 13,
   "outputs": [
    {
     "name": "stdout",
     "output_type": "stream",
     "text": [
      "Using downloaded and verified file: ./data\\test_32x32.mat\n"
     ]
    },
    {
     "name": "stderr",
     "output_type": "stream",
     "text": [
      "C:\\ProgramData\\Anaconda3\\lib\\site-packages\\ipykernel_launcher.py:45: UserWarning: Implicit dimension choice for softmax has been deprecated. Change the call to include dim=X as an argument.\n"
     ]
    },
    {
     "name": "stdout",
     "output_type": "stream",
     "text": [
      "500\n",
      "1000\n",
      "1500\n",
      "2000\n",
      "2500\n",
      "3000\n",
      "3500\n",
      "4000\n",
      "4500\n",
      "5000\n",
      "5500\n",
      "6000\n",
      "6500\n",
      "7000\n",
      "7500\n",
      "8000\n",
      "8500\n",
      "9000\n",
      "9500\n",
      "10000\n"
     ]
    }
   ],
   "source": [
    "\n",
    "\n",
    "# FGSM attack to generate adversarial examples\n",
    "def fgsm_attack(image, epsilon, data_grad):\n",
    "    sign_data_grad = data_grad.sign()\n",
    "    perturbed_image = image + epsilon * sign_data_grad\n",
    "    #perturbed_image = torch.clamp(perturbed_image, 0, 1)\n",
    "    return perturbed_image\n",
    "\n",
    "\n",
    "# Custom transformation to apply FGSM attack\n",
    "class AdversarialAttack(object):\n",
    "    def __init__(self, model, epsilon=0.1):\n",
    "        self.epsilon = epsilon\n",
    "        self.model = model\n",
    "\n",
    "    def __call__(self, img):\n",
    "        criterion = torch.nn.CrossEntropyLoss().cuda()\n",
    "        input = Variable(img.cuda(), requires_grad=True)\n",
    "        output = self.model(input.unsqueeze(0))  # Assuming 'model' is your trained model\n",
    "        _, pred = output.max(1)\n",
    "        loss = criterion(output, pred)\n",
    "        loss.backward()\n",
    "        data_grad = input.grad.data\n",
    "        perturbed_img = fgsm_attack(input, self.epsilon, data_grad)\n",
    "        perturbed_img = perturbed_img.squeeze(0)\n",
    "        perturbed_img = perturbed_img.to('cpu')\n",
    "        perturbed_img = perturbed_img.detach()\n",
    "        return perturbed_img\n",
    "\n",
    "\n",
    "attack_level = 0.15\n",
    "\n",
    "# Define normalization transformation\n",
    "normalize_transform_adversarial = transforms.Compose([\n",
    "    transforms.ToTensor(),\n",
    "    transforms.Normalize(mean_id, std_id),\n",
    "    AdversarialAttack(model=neta, epsilon=attack_level)])\n",
    "\n",
    "\n",
    "dataset_adversarial = datasets.SVHN(\n",
    "    root= './data', split = 'test',\n",
    "    download =True, transform=normalize_transform_adversarial)\n",
    "\n",
    "dataset_adversarial = torch.utils.data.Subset(dataset_adversarial, selected_indices)\n",
    "\n",
    "loader_adversarial = torch.utils.data.DataLoader(dataset_adversarial\n",
    "                                                 , batch_size=batch_size\n",
    "                                                 , shuffle=False)\n",
    "\n",
    "preds_adversarial = predict_softmax_grad(neta, loader_adversarial, temp, threshold)"
   ],
   "metadata": {
    "collapsed": false,
    "pycharm": {
     "name": "#%%\n"
    }
   }
  },
  {
   "cell_type": "code",
   "execution_count": 14,
   "outputs": [
    {
     "name": "stdout",
     "output_type": "stream",
     "text": [
      "percentage ID: 0.5366, percentage accurate total: 0.3372, percentage accurate and ID: 0.1694, percentage accurate of ID: 0.3156913902348118\n"
     ]
    }
   ],
   "source": [
    "calc_FPR95(preds_adversarial)"
   ],
   "metadata": {
    "collapsed": false,
    "pycharm": {
     "name": "#%%\n"
    }
   }
  },
  {
   "cell_type": "code",
   "execution_count": 15,
   "outputs": [
    {
     "data": {
      "text/plain": "<Figure size 432x288 with 1 Axes>",
      "image/png": "[encoded data removed]"
     },
     "metadata": {
      "needs_background": "light"
     },
     "output_type": "display_data"
    },
    {
     "name": "stdout",
     "output_type": "stream",
     "text": [
      "AUROC: 0.8514416050000001\n"
     ]
    },
    {
     "data": {
      "text/plain": "<Figure size 432x288 with 1 Axes>",
      "image/png": "[encoded data removed]"
     },
     "metadata": {
      "needs_background": "light"
     },
     "output_type": "display_data"
    }
   ],
   "source": [
    "plot_hist(preds_id, preds_adversarial, threshold) #0.075\n",
    "calc_auroc(preds_id, preds_adversarial)"
   ],
   "metadata": {
    "collapsed": false,
    "pycharm": {
     "name": "#%%\n"
    }
   }
  },
  {
   "cell_type": "code",
   "execution_count": 12,
   "outputs": [
    {
     "name": "stdout",
     "output_type": "stream",
     "text": [
      "Using downloaded and verified file: ./data\\test_32x32.mat\n"
     ]
    },
    {
     "name": "stderr",
     "output_type": "stream",
     "text": [
      "C:\\ProgramData\\Anaconda3\\lib\\site-packages\\ipykernel_launcher.py:9: UserWarning: Implicit dimension choice for softmax has been deprecated. Change the call to include dim=X as an argument.\n",
      "  if __name__ == '__main__':\n"
     ]
    },
    {
     "name": "stdout",
     "output_type": "stream",
     "text": [
      "500\n",
      "1000\n",
      "1500\n",
      "2000\n",
      "2500\n",
      "3000\n",
      "3500\n",
      "4000\n",
      "4500\n",
      "5000\n",
      "5500\n",
      "6000\n",
      "6500\n",
      "7000\n",
      "7500\n",
      "8000\n",
      "8500\n",
      "9000\n",
      "9500\n",
      "10000\n",
      "percentage ID: 0.8747, percentage accurate total: 0.8977, percentage accurate and ID: 0.842, percentage accurate of ID: 0.9626157539727906\n"
     ]
    },
    {
     "data": {
      "text/plain": "<Figure size 432x288 with 1 Axes>",
      "image/png": "[encoded data removed]"
     },
     "metadata": {
      "needs_background": "light"
     },
     "output_type": "display_data"
    },
    {
     "name": "stdout",
     "output_type": "stream",
     "text": [
      "AUROC: 0.5966261799999999\n"
     ]
    },
    {
     "data": {
      "text/plain": "<Figure size 432x288 with 1 Axes>",
      "image/png": "[encoded data removed]"
     },
     "metadata": {
      "needs_background": "light"
     },
     "output_type": "display_data"
    }
   ],
   "source": [
    "class AddBrightness(object):\n",
    "    def __init__(self, brightness=1, contrast=1, saturation=1, hue=0, randomhue=False):\n",
    "        self.brightness = brightness\n",
    "        self.contrast = contrast\n",
    "        self.saturation = saturation\n",
    "        self.hue = hue\n",
    "        self.randomhue = randomhue\n",
    "    def __call__(self, img):\n",
    "\n",
    "        # Apply color shift deterministically\n",
    "        img = FT.adjust_brightness(img, self.brightness)\n",
    "        img = FT.adjust_contrast(img, self.contrast)\n",
    "        img = FT.adjust_saturation(img, self.saturation)\n",
    "        img = FT.adjust_hue(img, self.hue)\n",
    "        if self.randomhue==True:\n",
    "            random_number = 0  # Initialize with 5 to start the loop\n",
    "            while random_number == 0 :\n",
    "                random_number = random.randint(1, 10)\n",
    "                random_number = (random_number-5)/10\n",
    "            img = FT.adjust_hue(img, random_number)\n",
    "        return img\n",
    "normalize_transform_bright = transforms.Compose([\n",
    "    transforms.ToTensor(),\n",
    "    AddBrightness(brightness=1.75),\n",
    "    transforms.Normalize(mean_id, std_id)])\n",
    "\n",
    "\n",
    "dataset_bright = datasets.SVHN(\n",
    "    root= './data', split = 'test',\n",
    "    download =True, transform=normalize_transform_bright)\n",
    "\n",
    "dataset_bright = torch.utils.data.Subset(dataset_bright, selected_indices)\n",
    "\n",
    "loader_bright = torch.utils.data.DataLoader(dataset_bright\n",
    "                                            , batch_size=batch_size\n",
    "                                            , shuffle=False)\n",
    "preds_bright= predict_softmax(neta, loader_bright, temp, threshold)\n",
    "calc_FPR95(preds_bright)\n",
    "plot_hist(preds_id, preds_bright, threshold)  #0.075\n",
    "calc_auroc(preds_id, preds_bright)"
   ],
   "metadata": {
    "collapsed": false,
    "pycharm": {
     "name": "#%%\n"
    }
   }
  },
  {
   "cell_type": "code",
   "execution_count": null,
   "outputs": [],
   "source": [],
   "metadata": {
    "collapsed": false,
    "pycharm": {
     "name": "#%%\n"
    }
   }
  }
 ],
 "metadata": {
  "kernelspec": {
   "display_name": "Python 3",
   "language": "python",
   "name": "python3"
  },
  "language_info": {
   "codemirror_mode": {
    "name": "ipython",
    "version": 2
   },
   "file_extension": ".py",
   "mimetype": "text/x-python",
   "name": "python",
   "nbconvert_exporter": "python",
   "pygments_lexer": "ipython2",
   "version": "2.7.6"
  }
 },
 "nbformat": 4,
 "nbformat_minor": 0
}