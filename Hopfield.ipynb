{
 "cells": [
  {
   "cell_type": "code",
   "execution_count": 1,
   "metadata": {
    "collapsed": true
   },
   "outputs": [
    {
     "name": "stdout",
     "output_type": "stream",
     "text": [
      "C:\\Users\\20203666\\Documents\\BEP\\code\\Representation_Learning\n"
     ]
    }
   ],
   "source": [
    "from __future__ import print_function\n",
    "import torch\n",
    "import torch.optim as optim\n",
    "from torchvision import datasets, transforms\n",
    "from torch.utils.data import DataLoader, random_split\n",
    "cuda = torch.cuda.is_available()\n",
    "device = 'cuda' if cuda else 'cpu'\n",
    "%matplotlib inline\n",
    "from utils import *\n",
    "import torch\n",
    "import random\n",
    "from PIL import Image,ImageFilter\n",
    "import pickle\n",
    "from torchvision.transforms import functional as FT\n",
    "from torch.autograd import Variable\n",
    "from torch.utils.data import Dataset"
   ]
  },
  {
   "cell_type": "code",
   "execution_count": 2,
   "outputs": [
    {
     "name": "stdout",
     "output_type": "stream",
     "text": [
      "((0.4914, 0.4822, 0.4465), (0.2023, 0.1994, 0.201))\n",
      "Files already downloaded and verified\n",
      "Files already downloaded and verified\n",
      "100\n"
     ]
    }
   ],
   "source": [
    "classes = ('plane', 'car', 'bird', 'cat', 'deer', 'dog', 'frog', 'horse', 'ship', 'truck')\n",
    "num_classes = 10\n",
    "batch_size = 500\n",
    "\n",
    "\n",
    "mean_id = (0.4914, 0.4822, 0.4465)  #  mean along channels\n",
    "std_id = (0.2023, 0.1994, 0.2010)  #  std along channels\n",
    "print((mean_id, std_id))\n",
    "\n",
    "# Define normalization transformation\n",
    "normalize_transform_id = transforms.Compose([\n",
    "    transforms.ToTensor(),\n",
    "    transforms.Normalize(mean_id, std_id)])\n",
    "\n",
    "\n",
    "train_dataset_id = datasets.CIFAR10(\n",
    "    root= './data', train = True,\n",
    "    download =True, transform = normalize_transform_id)\n",
    "test_dataset_id = datasets.CIFAR10(\n",
    "    root= './data', train = False,\n",
    "    download =True, transform = normalize_transform_id)\n",
    "\n",
    "\n",
    "\n",
    "train_loader_id = torch.utils.data.DataLoader(train_dataset_id\n",
    "                                              , batch_size = batch_size\n",
    "                                              , shuffle = True)\n",
    "test_loader_id = torch.utils.data.DataLoader(test_dataset_id\n",
    "                                             , batch_size = batch_size\n",
    "                                             , shuffle = True)\n",
    "n_total_step = len(train_loader_id)\n",
    "print(n_total_step)"
   ],
   "metadata": {
    "collapsed": false,
    "pycharm": {
     "name": "#%%\n"
    }
   }
  },
  {
   "cell_type": "code",
   "execution_count": 3,
   "outputs": [
    {
     "name": "stdout",
     "output_type": "stream",
     "text": [
      "2512cfv1.t7 ACC:\t tensor(90.6600)\n",
      "Loss: 0.373 | Acc: 90.660% (9066/10000) | Conf 95.88\n"
     ]
    }
   ],
   "source": [
    "classifier = nn.Linear(512, num_classes)\n",
    "neta = resnet9(classifier, mod=True)\n",
    "neta = load_net('2512cfv1.t7', neta).to(device)\n",
    "criterion_sm = CE_Loss(neta.classifier, num_classes).to(device)\n",
    "sgd = optim.SGD([{'params': neta.parameters()}, ],\n",
    "                lr=0.1, momentum=0.9, weight_decay=5e-4)\n",
    "optimizer = Optimizer(sgd, train_loader_id, device)\n",
    "(acc, conf) = optimizer.test_acc(neta, criterion_sm, test_loader_id)"
   ],
   "metadata": {
    "collapsed": false,
    "pycharm": {
     "name": "#%%\n"
    }
   }
  },
  {
   "cell_type": "code",
   "execution_count": 13,
   "outputs": [],
   "source": [
    "def fit_hopfield(net, test_loader):\n",
    "    patterns = [np.zeros(512) for i in range(10)]\n",
    "    net.eval()\n",
    "    with torch.no_grad():\n",
    "        for batch_idx, (inputs, targets) in enumerate(test_loader):\n",
    "            inputs, targets = inputs.to('cuda'), targets.to('cpu')\n",
    "            conv_embedding = net.embed(inputs).to('cpu')\n",
    "            for i in range(len(targets)):\n",
    "                patterns[targets[i]] = patterns[targets[i]] + np.array(conv_embedding[i])\n",
    "        for i in range(len(patterns)):\n",
    "            patterns[i] = patterns[i]/1000\n",
    "        all_hopfield_energy = []\n",
    "        for batch_idx, (inputs, targets) in enumerate(test_loader):\n",
    "            inputs, targets = inputs.to('cuda'), targets.to('cpu')\n",
    "            conv_embedding = np.array(net.embed(inputs).to('cpu'))\n",
    "            Y_pred = net.conf(inputs)\n",
    "            confBatch, predicted = Y_pred.max(1)\n",
    "            for i in range(len(predicted)):\n",
    "                hopfield_energy = np.array(conv_embedding[i]).T@patterns[predicted[i]]\n",
    "                all_hopfield_energy.append(hopfield_energy)\n",
    "            percentile_95 = np.percentile(all_hopfield_energy, 5)\n",
    "    return patterns, percentile_95\n",
    "\n",
    "def predict_hopfield(net, test_loader, patterns, percentile):\n",
    "    predictions = []\n",
    "    net.eval()\n",
    "    with torch.no_grad():\n",
    "        for batch_idx, (inputs, targets) in enumerate(test_loader):\n",
    "            inputs, targets = inputs.to('cuda'), targets.to('cpu')\n",
    "            conv_embedding = np.array(net.embed(inputs).to('cpu'))\n",
    "            Y_pred = net.conf(inputs)\n",
    "            confBatch, predicted = Y_pred.max(1)\n",
    "            for i in range(len(predicted)):\n",
    "                hopfield_energy = np.array(conv_embedding[i]).T@patterns[predicted[i]]\n",
    "                if hopfield_energy<percentile:\n",
    "                    prediction = (1,  int(predicted[i]), float(confBatch[i]), targets[i], hopfield_energy)\n",
    "                else:\n",
    "                    prediction = (0, int(predicted[i]), float(confBatch[i]), targets[i], hopfield_energy)\n",
    "                predictions.append(prediction)\n",
    "            print(len(predictions))\n",
    "            if len(predictions) ==10000:\n",
    "                break\n",
    "\n",
    "    return predictions\n",
    "\n",
    "def predict_hopfield_grad(net, test_loader, patterns, percentile):\n",
    "    predictions = []\n",
    "    net.eval()\n",
    "    for batch_idx, (inputs, targets) in enumerate(test_loader):\n",
    "        with torch.no_grad():\n",
    "            inputs, targets = inputs.to('cuda'), targets.to('cpu')\n",
    "            conv_embedding = np.array(net.embed(inputs).to('cpu'))\n",
    "            Y_pred = net.conf(inputs)\n",
    "            confBatch, predicted = Y_pred.max(1)\n",
    "            for i in range(len(predicted)):\n",
    "                hopfield_energy = np.array(conv_embedding[i]).T@patterns[predicted[i]]\n",
    "                if hopfield_energy<percentile:\n",
    "                    prediction = (1,  int(predicted[i]), float(confBatch[i]), targets[i], hopfield_energy)\n",
    "                else:\n",
    "                    prediction = (0, int(predicted[i]), float(confBatch[i]), targets[i], hopfield_energy)\n",
    "                predictions.append(prediction)\n",
    "            print(len(predictions))\n",
    "            if len(predictions) ==10000:\n",
    "                break\n",
    "\n",
    "    return predictions\n",
    "\n",
    "def calc_FPR95(preds):\n",
    "    id=0\n",
    "    acc=0\n",
    "    acc2=0\n",
    "    for i in range(len(preds)):\n",
    "        if preds[i][0] == 0:\n",
    "            id+=1\n",
    "        if preds[i][1]==preds[i][3] and preds[i][0] == 0:\n",
    "            acc+=1\n",
    "        if preds[i][1]==preds[i][3]:\n",
    "            acc2+=1\n",
    "    print(f'percentage ID: {id/10000}, percentage accurate total: {acc2/10000}, percentage accurate and ID: {acc/10000},'\n",
    "          f' percentage accurate of ID: {acc/id}')\n",
    "\n",
    "def plot_hist(preds_id, preds_ood, threshold):\n",
    "    id_data=[]\n",
    "    ood_data=[]\n",
    "    for i in range(len(preds_id)):\n",
    "        id_data.append(float(preds_id[i][4]))\n",
    "        ood_data.append(float(preds_ood[i][4]))\n",
    "    print(len(id_data), len(ood_data))\n",
    "    bin_edges = np.linspace(min(min(id_data), min(ood_data)), max(max(id_data), max(ood_data)), 50)  # 30 bins\n",
    "\n",
    "    plt.hist(id_data, bins=bin_edges, alpha=0.5, label='ID data', color='blue', density=True)\n",
    "    plt.hist(ood_data, bins=bin_edges, alpha=0.5, label='OOD data', color='orange', density=True)\n",
    "    plt.axvline(x=threshold, color='red', linestyle='--', label=f'Threshold ({round(float(threshold),4)})')\n",
    "\n",
    "    # Adding labels and title\n",
    "    plt.xlabel('OOD detection method score')\n",
    "    plt.ylabel('Frequency')\n",
    "    plt.yticks([])\n",
    "    plt.legend()\n",
    "\n",
    "    # Displaying the plot\n",
    "    plt.show()\n",
    "from sklearn.metrics import roc_auc_score,roc_curve, auc\n",
    "def calc_auroc(preds_id, preds_ood):\n",
    "    id_labels = [1]*10000\n",
    "    ood_labels = [0]*10000\n",
    "    id_data=[]\n",
    "    ood_data=[]\n",
    "    for i in range(len(preds_id)):\n",
    "        id_data.append(preds_id[i][4])\n",
    "        ood_data.append(preds_ood[i][4])\n",
    "    data = id_data+ ood_data\n",
    "    labels = id_labels+ ood_labels\n",
    "    auroc = roc_auc_score(labels, data)\n",
    "    fpr, tpr, thresholds = roc_curve(labels, data)\n",
    "    print(f'AUROC: {auroc}')\n",
    "    roc_auc = auc(fpr, tpr)\n",
    "    idx = next(i for i, v in enumerate(tpr) if v >= 0.95)\n",
    "    fpr_at_tpr_95 = fpr[idx]\n",
    "\n",
    "    # Plot ROC curve\n",
    "    plt.figure()\n",
    "    plt.plot(fpr, tpr, color='blue', lw=2, label=f'AUROC = {roc_auc:.2f}')\n",
    "    #plt.plot([0, 1], [0, 1], color='red', linestyle='--')\n",
    "    plt.xlabel('False Positive Rate (FPR)')\n",
    "    plt.ylabel('True Positive Rate (TPR)')\n",
    "    plt.title('Receiver Operating Characteristic (ROC) Curve')\n",
    "    #plt.ylim(0.5, 1)\n",
    "    plt.axvline(x=fpr_at_tpr_95, color='red', linestyle='--', label='TPR = 0.95')\n",
    "    plt.legend(loc='lower right')\n",
    "    plt.show()"
   ],
   "metadata": {
    "collapsed": false,
    "pycharm": {
     "name": "#%%\n"
    }
   }
  },
  {
   "cell_type": "code",
   "execution_count": 5,
   "outputs": [
    {
     "name": "stdout",
     "output_type": "stream",
     "text": [
      "50.20868629233256\n"
     ]
    }
   ],
   "source": [
    "patterns, percentile = fit_hopfield(neta, test_loader_id)\n",
    "print(percentile)"
   ],
   "metadata": {
    "collapsed": false,
    "pycharm": {
     "name": "#%%\n"
    }
   }
  },
  {
   "cell_type": "code",
   "execution_count": 6,
   "outputs": [
    {
     "name": "stdout",
     "output_type": "stream",
     "text": [
      "500\n",
      "1000\n",
      "1500\n",
      "2000\n",
      "2500\n",
      "3000\n",
      "3500\n",
      "4000\n",
      "4500\n",
      "5000\n",
      "5500\n",
      "6000\n",
      "6500\n",
      "7000\n",
      "7500\n",
      "8000\n",
      "8500\n",
      "9000\n",
      "9500\n",
      "10000\n"
     ]
    }
   ],
   "source": [
    "preds_id = predict_hopfield(neta, test_loader_id, patterns, percentile)"
   ],
   "metadata": {
    "collapsed": false,
    "pycharm": {
     "name": "#%%\n"
    }
   }
  },
  {
   "cell_type": "code",
   "execution_count": 7,
   "outputs": [
    {
     "name": "stdout",
     "output_type": "stream",
     "text": [
      "percentage ID: 0.95, percentage accurate total: 0.9066, percentage accurate and ID: 0.8785, percentage accurate of ID: 0.9247368421052632\n"
     ]
    }
   ],
   "source": [
    "calc_FPR95(preds_id)"
   ],
   "metadata": {
    "collapsed": false,
    "pycharm": {
     "name": "#%%\n"
    }
   }
  },
  {
   "cell_type": "code",
   "execution_count": 8,
   "outputs": [
    {
     "name": "stdout",
     "output_type": "stream",
     "text": [
      "Using downloaded and verified file: ./data\\test_32x32.mat\n"
     ]
    }
   ],
   "source": [
    "\n",
    "normalize_transform_svhn = transforms.Compose([\n",
    "    transforms.ToTensor(),\n",
    "    transforms.Normalize(mean_id, std_id)])\n",
    "\n",
    "dataset_svhn = datasets.SVHN(\n",
    "    root= './data', split = 'test',\n",
    "    download =True, transform=normalize_transform_svhn)\n",
    "\n",
    "class_indices = {i: [] for i in range(10)}\n",
    "for idx, (_, label) in enumerate(dataset_svhn):\n",
    "    class_indices[label].append(idx)\n",
    "\n",
    "# Select 1,000 random indices for each class\n",
    "selected_indices = []\n",
    "for label, indices in class_indices.items():\n",
    "    selected_indices.extend(indices[:1000])\n",
    "\n",
    "dataset_svhn = torch.utils.data.Subset(dataset_svhn, selected_indices)\n",
    "\n",
    "loader_svhn = torch.utils.data.DataLoader(dataset_svhn\n",
    "                                          , batch_size = batch_size\n",
    "                                          , shuffle = True)\n"
   ],
   "metadata": {
    "collapsed": false,
    "pycharm": {
     "name": "#%%\n"
    }
   }
  },
  {
   "cell_type": "code",
   "execution_count": 9,
   "outputs": [
    {
     "name": "stdout",
     "output_type": "stream",
     "text": [
      "500\n",
      "1000\n",
      "1500\n",
      "2000\n",
      "2500\n",
      "3000\n",
      "3500\n",
      "4000\n",
      "4500\n",
      "5000\n",
      "5500\n",
      "6000\n",
      "6500\n",
      "7000\n",
      "7500\n",
      "8000\n",
      "8500\n",
      "9000\n",
      "9500\n",
      "10000\n"
     ]
    }
   ],
   "source": [
    "preds_svhn = predict_hopfield(neta, loader_svhn, patterns, percentile)"
   ],
   "metadata": {
    "collapsed": false,
    "pycharm": {
     "name": "#%%\n"
    }
   }
  },
  {
   "cell_type": "code",
   "execution_count": 10,
   "outputs": [
    {
     "name": "stdout",
     "output_type": "stream",
     "text": [
      "percentage ID: 0.3305, percentage accurate total: 0.1085, percentage accurate and ID: 0.0407, percentage accurate of ID: 0.12314674735249621\n"
     ]
    }
   ],
   "source": [
    "calc_FPR95(preds_svhn)"
   ],
   "metadata": {
    "collapsed": false,
    "pycharm": {
     "name": "#%%\n"
    }
   }
  },
  {
   "cell_type": "code",
   "execution_count": 14,
   "outputs": [
    {
     "name": "stdout",
     "output_type": "stream",
     "text": [
      "AUROC: 0.9440642400000001\n"
     ]
    },
    {
     "data": {
      "text/plain": "<Figure size 432x288 with 1 Axes>",
      "image/png": "[encoded data removed]"
     },
     "metadata": {
      "needs_background": "light"
     },
     "output_type": "display_data"
    }
   ],
   "source": [
    "calc_auroc(preds_id, preds_svhn)"
   ],
   "metadata": {
    "collapsed": false,
    "pycharm": {
     "name": "#%%\n"
    }
   }
  },
  {
   "cell_type": "code",
   "execution_count": 11,
   "outputs": [
    {
     "name": "stdout",
     "output_type": "stream",
     "text": [
      "10000 10000\n"
     ]
    },
    {
     "data": {
      "text/plain": "<Figure size 432x288 with 1 Axes>",
      "image/png": "[encoded data removed]"
     },
     "metadata": {
      "needs_background": "light"
     },
     "output_type": "display_data"
    }
   ],
   "source": [
    "plot_hist(preds_id, preds_svhn, percentile)"
   ],
   "metadata": {
    "collapsed": false,
    "pycharm": {
     "name": "#%%\n"
    }
   }
  },
  {
   "cell_type": "code",
   "execution_count": 15,
   "outputs": [
    {
     "name": "stdout",
     "output_type": "stream",
     "text": [
      "500\n",
      "1000\n",
      "1500\n",
      "2000\n",
      "2500\n",
      "3000\n",
      "3500\n",
      "4000\n",
      "4500\n",
      "5000\n",
      "5500\n",
      "6000\n",
      "6500\n",
      "7000\n",
      "7500\n",
      "8000\n",
      "8500\n",
      "9000\n",
      "9500\n",
      "10000\n"
     ]
    }
   ],
   "source": [
    "path_data = 'C:\\\\Users\\\\20203666\\\\Documents\\\\BEP\\\\code\\\\Representation_Learning\\\\data\\\\imagenet_test\\\\imagenet_data.pkl'\n",
    "path_labels = 'C:\\\\Users\\\\20203666\\\\Documents\\\\BEP\\\\code\\\\Representation_Learning\\\\data\\\\imagenet_test\\\\imagenet_labels.pkl'\n",
    "\n",
    "with open(path_data, 'rb') as file:\n",
    "    # Load the data from the pickle file\n",
    "    imagenet_data = pickle.load(file)\n",
    "\n",
    "with open(path_labels, 'rb') as file:\n",
    "    # Load the data from the pickle file\n",
    "    imagenet_labels = pickle.load(file)\n",
    "\n",
    "\n",
    "class CustomDataset(Dataset):\n",
    "    def __init__(self, images, labels, transform=None):\n",
    "        self.images = images\n",
    "        self.labels = labels\n",
    "        self.transform = transform\n",
    "\n",
    "    def __len__(self):\n",
    "        return len(self.images)\n",
    "\n",
    "    def __getitem__(self, idx):\n",
    "        image = self.images[idx]\n",
    "        label = self.labels[idx]\n",
    "\n",
    "        # Convert image and label to PyTorch tensors\n",
    "        image = torch.tensor(image, dtype=torch.float32)\n",
    "        #label = torch.tensor(label, dtype=torch.long)\n",
    "        if self.transform:\n",
    "            image = self.transform(image)\n",
    "        return image, label\n",
    "\n",
    "\n",
    "normalize_transform_domain_shift = transforms.Compose([transforms.Normalize(mean_id, std_id)])\n",
    "\n",
    "dataset_domain_shift = CustomDataset(imagenet_data, imagenet_labels, transform=normalize_transform_domain_shift)\n",
    "\n",
    "loader_domain_shift = torch.utils.data.DataLoader(dataset_domain_shift\n",
    "                                                  , batch_size=batch_size\n",
    "                                                  , shuffle=False)\n",
    "preds_domain_shift = predict_hopfield(neta, loader_domain_shift, patterns, percentile)"
   ],
   "metadata": {
    "collapsed": false,
    "pycharm": {
     "name": "#%%\n"
    }
   }
  },
  {
   "cell_type": "code",
   "execution_count": 16,
   "outputs": [
    {
     "name": "stdout",
     "output_type": "stream",
     "text": [
      "percentage ID: 0.8169, percentage accurate total: 0.7385, percentage accurate and ID: 0.6622, percentage accurate of ID: 0.8106255355612683\n"
     ]
    }
   ],
   "source": [
    "calc_FPR95(preds_domain_shift)"
   ],
   "metadata": {
    "collapsed": false,
    "pycharm": {
     "name": "#%%\n"
    }
   }
  },
  {
   "cell_type": "code",
   "execution_count": 17,
   "outputs": [
    {
     "name": "stdout",
     "output_type": "stream",
     "text": [
      "10000 10000\n"
     ]
    },
    {
     "data": {
      "text/plain": "<Figure size 432x288 with 1 Axes>",
      "image/png": "[encoded data removed]"
     },
     "metadata": {
      "needs_background": "light"
     },
     "output_type": "display_data"
    },
    {
     "name": "stdout",
     "output_type": "stream",
     "text": [
      "AUROC: 0.67920428\n"
     ]
    },
    {
     "data": {
      "text/plain": "<Figure size 432x288 with 1 Axes>",
      "image/png": "[encoded data removed]"
     },
     "metadata": {
      "needs_background": "light"
     },
     "output_type": "display_data"
    }
   ],
   "source": [
    "plot_hist(preds_id, preds_domain_shift, percentile)\n",
    "\n",
    "calc_auroc(preds_id, preds_domain_shift)"
   ],
   "metadata": {
    "collapsed": false,
    "pycharm": {
     "name": "#%%\n"
    }
   }
  },
  {
   "cell_type": "code",
   "execution_count": 18,
   "outputs": [
    {
     "name": "stdout",
     "output_type": "stream",
     "text": [
      "Files already downloaded and verified\n",
      "500\n",
      "1000\n",
      "1500\n",
      "2000\n",
      "2500\n",
      "3000\n",
      "3500\n",
      "4000\n",
      "4500\n",
      "5000\n",
      "5500\n",
      "6000\n",
      "6500\n",
      "7000\n",
      "7500\n",
      "8000\n",
      "8500\n",
      "9000\n",
      "9500\n",
      "10000\n"
     ]
    }
   ],
   "source": [
    "\n",
    "class AddGaussianNoise(object):\n",
    "    def __init__(self, mean=0., std=1.):\n",
    "        self.std = std\n",
    "        self.mean = mean\n",
    "\n",
    "    def __call__(self, tensor):\n",
    "        # Add Gaussian noise to the tensor\n",
    "        noise = torch.randn(tensor.size()) * self.std + self.mean\n",
    "        noisy_tensor = tensor + noise\n",
    "\n",
    "        # Clip pixel values to maintain range between 0 and 1\n",
    "        noisy_tensor = torch.clamp(noisy_tensor, 0., 1.)\n",
    "        return noisy_tensor\n",
    "\n",
    "noise_level = 0.075\n",
    "\n",
    "# Define normalization transformation\n",
    "normalize_transform_noise = transforms.Compose([\n",
    "    transforms.ToTensor(),\n",
    "    AddGaussianNoise(mean=0.0, std=noise_level),\n",
    "    transforms.Normalize(mean_id, std_id)])\n",
    "\n",
    "\n",
    "dataset_noise = datasets.CIFAR10(root='./data', train=False, download=True, transform=normalize_transform_noise)\n",
    "\n",
    "loader_noise = torch.utils.data.DataLoader(dataset_noise\n",
    "                                           , batch_size=batch_size\n",
    "                                           , shuffle=False)\n",
    "preds_noise = predict_hopfield(neta, loader_noise, patterns, percentile)"
   ],
   "metadata": {
    "collapsed": false,
    "pycharm": {
     "name": "#%%\n"
    }
   }
  },
  {
   "cell_type": "code",
   "execution_count": 19,
   "outputs": [
    {
     "name": "stdout",
     "output_type": "stream",
     "text": [
      "percentage ID: 0.5732, percentage accurate total: 0.4344, percentage accurate and ID: 0.2987, percentage accurate of ID: 0.521109560362875\n"
     ]
    }
   ],
   "source": [
    "calc_FPR95(preds_noise)"
   ],
   "metadata": {
    "collapsed": false,
    "pycharm": {
     "name": "#%%\n"
    }
   }
  },
  {
   "cell_type": "code",
   "execution_count": 20,
   "outputs": [],
   "source": [
    "threshold = percentile"
   ],
   "metadata": {
    "collapsed": false,
    "pycharm": {
     "name": "#%%\n"
    }
   }
  },
  {
   "cell_type": "code",
   "execution_count": 21,
   "outputs": [
    {
     "name": "stdout",
     "output_type": "stream",
     "text": [
      "10000 10000\n"
     ]
    },
    {
     "data": {
      "text/plain": "<Figure size 432x288 with 1 Axes>",
      "image/png": "[encoded data removed]"
     },
     "metadata": {
      "needs_background": "light"
     },
     "output_type": "display_data"
    },
    {
     "name": "stdout",
     "output_type": "stream",
     "text": [
      "AUROC: 0.8752156599999998\n"
     ]
    },
    {
     "data": {
      "text/plain": "<Figure size 432x288 with 1 Axes>",
      "image/png": "[encoded data removed]"
     },
     "metadata": {
      "needs_background": "light"
     },
     "output_type": "display_data"
    }
   ],
   "source": [
    "plot_hist(preds_id, preds_noise, threshold) #0.025\n",
    "calc_auroc(preds_id, preds_noise)"
   ],
   "metadata": {
    "collapsed": false,
    "pycharm": {
     "name": "#%%\n"
    }
   }
  },
  {
   "cell_type": "code",
   "execution_count": 22,
   "outputs": [
    {
     "name": "stdout",
     "output_type": "stream",
     "text": [
      "Files already downloaded and verified\n",
      "500\n",
      "1000\n",
      "1500\n",
      "2000\n",
      "2500\n",
      "3000\n",
      "3500\n",
      "4000\n",
      "4500\n",
      "5000\n",
      "5500\n",
      "6000\n",
      "6500\n",
      "7000\n",
      "7500\n",
      "8000\n",
      "8500\n",
      "9000\n",
      "9500\n",
      "10000\n"
     ]
    }
   ],
   "source": [
    "\n",
    "\n",
    "class AddBlur(object):\n",
    "    def __init__(self, radius=2):\n",
    "        self.radius = radius\n",
    "\n",
    "    def __call__(self, img):\n",
    "        pil_img = transforms.ToPILImage()(img)  # Convert Tensor to PIL Image\n",
    "        blurred_img = pil_img.filter(ImageFilter.GaussianBlur(radius=self.radius))  # Apply Gaussian blur\n",
    "        return transforms.ToTensor()(blurred_img)\n",
    "\n",
    "blur_level = 1\n",
    "\n",
    "# Define normalization transformation\n",
    "normalize_transform_blur = transforms.Compose([\n",
    "    transforms.ToTensor(),\n",
    "    AddBlur(radius=blur_level),\n",
    "    transforms.Normalize(mean_id, std_id)])\n",
    "\n",
    "\n",
    "dataset_blur = datasets.CIFAR10(root='./data', train=False, download=True, transform=normalize_transform_blur)\n",
    "\n",
    "loader_blur = torch.utils.data.DataLoader(dataset_blur\n",
    "                                           , batch_size=batch_size\n",
    "                                           , shuffle=False)\n",
    "preds_blur = predict_hopfield(neta, loader_blur, patterns, percentile)"
   ],
   "metadata": {
    "collapsed": false,
    "pycharm": {
     "name": "#%%\n"
    }
   }
  },
  {
   "cell_type": "code",
   "execution_count": 23,
   "outputs": [
    {
     "name": "stdout",
     "output_type": "stream",
     "text": [
      "percentage ID: 0.5166, percentage accurate total: 0.4297, percentage accurate and ID: 0.2296, percentage accurate of ID: 0.4444444444444444\n"
     ]
    }
   ],
   "source": [
    "calc_FPR95(preds_blur)"
   ],
   "metadata": {
    "collapsed": false,
    "pycharm": {
     "name": "#%%\n"
    }
   }
  },
  {
   "cell_type": "code",
   "execution_count": 24,
   "outputs": [
    {
     "name": "stdout",
     "output_type": "stream",
     "text": [
      "10000 10000\n"
     ]
    },
    {
     "data": {
      "text/plain": "<Figure size 432x288 with 1 Axes>",
      "image/png": "[encoded data removed]"
     },
     "metadata": {
      "needs_background": "light"
     },
     "output_type": "display_data"
    },
    {
     "name": "stdout",
     "output_type": "stream",
     "text": [
      "AUROC: 0.9031752899999999\n"
     ]
    },
    {
     "data": {
      "text/plain": "<Figure size 432x288 with 1 Axes>",
      "image/png": "[encoded data removed]"
     },
     "metadata": {
      "needs_background": "light"
     },
     "output_type": "display_data"
    }
   ],
   "source": [
    "plot_hist(preds_id, preds_blur, threshold) #0.075\n",
    "calc_auroc(preds_id, preds_blur)"
   ],
   "metadata": {
    "collapsed": false,
    "pycharm": {
     "name": "#%%\n"
    }
   }
  },
  {
   "cell_type": "code",
   "execution_count": 26,
   "outputs": [
    {
     "name": "stdout",
     "output_type": "stream",
     "text": [
      "Files already downloaded and verified\n",
      "500\n",
      "1000\n",
      "1500\n",
      "2000\n",
      "2500\n",
      "3000\n",
      "3500\n",
      "4000\n",
      "4500\n",
      "5000\n",
      "5500\n",
      "6000\n",
      "6500\n",
      "7000\n",
      "7500\n",
      "8000\n",
      "8500\n",
      "9000\n",
      "9500\n",
      "10000\n"
     ]
    }
   ],
   "source": [
    "# FGSM attack to generate adversarial examples\n",
    "def fgsm_attack(image, epsilon, data_grad):\n",
    "    sign_data_grad = data_grad.sign()\n",
    "    perturbed_image = image + epsilon * sign_data_grad\n",
    "    return perturbed_image\n",
    "\n",
    "\n",
    "# Custom transformation to apply FGSM attack\n",
    "class AdversarialAttack(object):\n",
    "    def __init__(self, model, epsilon=0.1):\n",
    "        self.epsilon = epsilon\n",
    "        self.model = model\n",
    "\n",
    "    def __call__(self, img):\n",
    "        criterion = torch.nn.CrossEntropyLoss().cuda()\n",
    "        input = Variable(img.cuda(), requires_grad=True)\n",
    "        output = self.model(input.unsqueeze(0))  # Assuming 'model' is your trained model\n",
    "        _, pred = output.max(1)\n",
    "        loss = criterion(output, pred)\n",
    "        loss.backward()\n",
    "        data_grad = input.grad.data\n",
    "        perturbed_img = fgsm_attack(input, self.epsilon, data_grad)\n",
    "        perturbed_img = perturbed_img.squeeze(0)\n",
    "        perturbed_img = perturbed_img.to('cpu')\n",
    "        perturbed_img = perturbed_img.detach()\n",
    "        return perturbed_img\n",
    "\n",
    "attack_level = 0.15\n",
    "\n",
    "# Define normalization transformation\n",
    "normalize_transform_adversarial = transforms.Compose([\n",
    "    transforms.ToTensor(),\n",
    "    transforms.Normalize(mean_id, std_id),\n",
    "    AdversarialAttack(model=neta, epsilon=attack_level)])\n",
    "\n",
    "\n",
    "dataset_adversarial = datasets.CIFAR10(root='./data', train=False, download=True, transform=normalize_transform_adversarial)\n",
    "\n",
    "loader_adversarial = torch.utils.data.DataLoader(dataset_adversarial\n",
    "                                                 , batch_size=batch_size\n",
    "                                                 , shuffle=False)\n",
    "preds_adversarial = predict_hopfield_grad(neta, loader_adversarial, patterns, percentile)"
   ],
   "metadata": {
    "collapsed": false,
    "pycharm": {
     "name": "#%%\n"
    }
   }
  },
  {
   "cell_type": "code",
   "execution_count": 27,
   "outputs": [
    {
     "name": "stdout",
     "output_type": "stream",
     "text": [
      "percentage ID: 0.8425, percentage accurate total: 0.0849, percentage accurate and ID: 0.0731, percentage accurate of ID: 0.08676557863501484\n"
     ]
    }
   ],
   "source": [
    "calc_FPR95(preds_adversarial)"
   ],
   "metadata": {
    "collapsed": false,
    "pycharm": {
     "name": "#%%\n"
    }
   }
  },
  {
   "cell_type": "code",
   "execution_count": 28,
   "outputs": [
    {
     "name": "stdout",
     "output_type": "stream",
     "text": [
      "10000 10000\n"
     ]
    },
    {
     "data": {
      "text/plain": "<Figure size 432x288 with 1 Axes>",
      "image/png": "[encoded data removed]"
     },
     "metadata": {
      "needs_background": "light"
     },
     "output_type": "display_data"
    },
    {
     "name": "stdout",
     "output_type": "stream",
     "text": [
      "AUROC: 0.63236222\n"
     ]
    },
    {
     "data": {
      "text/plain": "<Figure size 432x288 with 1 Axes>",
      "image/png": "[encoded data removed]"
     },
     "metadata": {
      "needs_background": "light"
     },
     "output_type": "display_data"
    }
   ],
   "source": [
    "plot_hist(preds_id, preds_adversarial, threshold) #0.075\n",
    "calc_auroc(preds_id, preds_adversarial)"
   ],
   "metadata": {
    "collapsed": false,
    "pycharm": {
     "name": "#%%\n"
    }
   }
  },
  {
   "cell_type": "code",
   "execution_count": 25,
   "outputs": [
    {
     "name": "stdout",
     "output_type": "stream",
     "text": [
      "Files already downloaded and verified\n",
      "500\n",
      "1000\n",
      "1500\n",
      "2000\n",
      "2500\n",
      "3000\n",
      "3500\n",
      "4000\n",
      "4500\n",
      "5000\n",
      "5500\n",
      "6000\n",
      "6500\n",
      "7000\n",
      "7500\n",
      "8000\n",
      "8500\n",
      "9000\n",
      "9500\n",
      "10000\n",
      "percentage ID: 0.8734, percentage accurate total: 0.811, percentage accurate and ID: 0.7559, percentage accurate of ID: 0.8654682848637508\n",
      "10000 10000\n"
     ]
    },
    {
     "data": {
      "text/plain": "<Figure size 432x288 with 1 Axes>",
      "image/png": "[encoded data removed]"
     },
     "metadata": {
      "needs_background": "light"
     },
     "output_type": "display_data"
    },
    {
     "name": "stdout",
     "output_type": "stream",
     "text": [
      "AUROC: 0.65477547\n"
     ]
    },
    {
     "data": {
      "text/plain": "<Figure size 432x288 with 1 Axes>",
      "image/png": "[encoded data removed]"
     },
     "metadata": {
      "needs_background": "light"
     },
     "output_type": "display_data"
    }
   ],
   "source": [
    "class AddBrightness(object):\n",
    "    def __init__(self, brightness=1, contrast=1, saturation=1, hue=0, randomhue=False):\n",
    "        self.brightness = brightness\n",
    "        self.contrast = contrast\n",
    "        self.saturation = saturation\n",
    "        self.hue = hue\n",
    "        self.randomhue = randomhue\n",
    "    def __call__(self, img):\n",
    "\n",
    "        # Apply color shift deterministically\n",
    "        img = FT.adjust_brightness(img, self.brightness)\n",
    "        img = FT.adjust_contrast(img, self.contrast)\n",
    "        img = FT.adjust_saturation(img, self.saturation)\n",
    "        img = FT.adjust_hue(img, self.hue)\n",
    "        if self.randomhue==True:\n",
    "            random_number = 0  # Initialize with 5 to start the loop\n",
    "            while random_number == 0 :\n",
    "                random_number = random.randint(1, 10)\n",
    "                random_number = (random_number-5)/10\n",
    "            img = FT.adjust_hue(img, random_number)\n",
    "        return img\n",
    "normalize_transform_bright = transforms.Compose([\n",
    "    transforms.ToTensor(),\n",
    "    AddBrightness(brightness=1.75),\n",
    "    transforms.Normalize(mean_id, std_id)])\n",
    "\n",
    "\n",
    "dataset_bright = datasets.CIFAR10(root='./data', train=False, download=True, transform=normalize_transform_bright)\n",
    "\n",
    "loader_bright = torch.utils.data.DataLoader(dataset_bright\n",
    "                                            , batch_size=batch_size\n",
    "                                            , shuffle=False)\n",
    "preds_bright= predict_hopfield(neta, loader_bright, patterns, percentile)\n",
    "calc_FPR95(preds_bright)\n",
    "plot_hist(preds_id, preds_bright, threshold)  #0.075\n",
    "calc_auroc(preds_id, preds_bright)"
   ],
   "metadata": {
    "collapsed": false,
    "pycharm": {
     "name": "#%%\n"
    }
   }
  },
  {
   "cell_type": "code",
   "execution_count": null,
   "outputs": [],
   "source": [],
   "metadata": {
    "collapsed": false,
    "pycharm": {
     "name": "#%%\n"
    }
   }
  }
 ],
 "metadata": {
  "kernelspec": {
   "display_name": "Python 3",
   "language": "python",
   "name": "python3"
  },
  "language_info": {
   "codemirror_mode": {
    "name": "ipython",
    "version": 2
   },
   "file_extension": ".py",
   "mimetype": "text/x-python",
   "name": "python",
   "nbconvert_exporter": "python",
   "pygments_lexer": "ipython2",
   "version": "2.7.6"
  }
 },
 "nbformat": 4,
 "nbformat_minor": 0
}